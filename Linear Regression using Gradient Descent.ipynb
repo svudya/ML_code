{
 "cells": [
  {
   "cell_type": "markdown",
   "metadata": {},
   "source": [
    "We are importing 'genfromtxt' class from NumPy library. (More on genfromtxt here https://docs.scipy.org/doc/numpy/reference/generated/numpy.genfromtxt.html)"
   ]
  },
  {
   "cell_type": "code",
   "execution_count": 57,
   "metadata": {
    "collapsed": true,
    "deletable": true,
    "editable": true
   },
   "outputs": [],
   "source": [
    "from numpy import genfromtxt"
   ]
  },
  {
   "cell_type": "markdown",
   "metadata": {},
   "source": [
    "We are using 'Matplotlib' a great graph plotting library usually used with python. 'pyplot' gives us set of functions that we can use to plot graphs. (More on pyplot here https://matplotlib.org/users/pyplot_tutorial.html)"
   ]
  },
  {
   "cell_type": "code",
   "execution_count": 58,
   "metadata": {
    "collapsed": true,
    "deletable": true,
    "editable": true
   },
   "outputs": [],
   "source": [
    "import matplotlib.pyplot as plt"
   ]
  },
  {
   "cell_type": "markdown",
   "metadata": {},
   "source": [
    "The following method is being used for computing errors. The error is defined as the average of distance of our line of best fit from the original points given in the data input"
   ]
  },
  {
   "cell_type": "code",
   "execution_count": 59,
   "metadata": {
    "collapsed": true,
    "deletable": true,
    "editable": true
   },
   "outputs": [],
   "source": [
    "def compute_error(b, m, points):\n",
    "    totalError = 0\n",
    "    for i in range(0, len(points)):\n",
    "        x = points[i,0]\n",
    "        y = points[i,1]\n",
    "        totalError += (y - (m*x + b)) ** 2\n",
    "    return totalError / float(len(points))"
   ]
  },
  {
   "cell_type": "markdown",
   "metadata": {},
   "source": [
    "The value of Y for all the x values on the list with the given slope and constant values"
   ]
  },
  {
   "cell_type": "code",
   "execution_count": 60,
   "metadata": {
    "collapsed": true,
    "deletable": true,
    "editable": true
   },
   "outputs": [],
   "source": [
    "def compute_y(b,m,xlist):\n",
    "    yfinal=[]\n",
    "    for i in range(len(xlist)):\n",
    "        yfinal.append(m*xlist[i]+b)\n",
    "\n",
    "    return yfinal"
   ]
  },
  {
   "cell_type": "markdown",
   "metadata": {},
   "source": [
    "The step gradient function is the main function of this"
   ]
  },
  {
   "cell_type": "code",
   "execution_count": 61,
   "metadata": {
    "collapsed": true,
    "deletable": true,
    "editable": true
   },
   "outputs": [],
   "source": [
    "def step_gradient(b, m, points, learning_rate):\n",
    "    b_gradient=0\n",
    "    m_gradient=0\n",
    "    ylist=[]\n",
    "    xlist=[]\n",
    "    N=float(len(points))\n",
    "    for i in range(0, len(points)):\n",
    "        x = points[i,0]\n",
    "        y = points[i,1]\n",
    "        ylist.append(y)\n",
    "        xlist.append(x)\n",
    "        b_gradient += -(2/N) * (y - ((m * x) + b))\n",
    "        m_gradient += -(2/N) * x * (y - ((m * x) + b))\n",
    "    new_b = b - (learning_rate * b_gradient)\n",
    "    new_m = m - (learning_rate * m_gradient)\n",
    "    return [new_b, new_m, ylist, xlist]"
   ]
  },
  {
   "cell_type": "code",
   "execution_count": 62,
   "metadata": {
    "collapsed": true,
    "deletable": true,
    "editable": true
   },
   "outputs": [],
   "source": [
    "def gradient_descent_runner(points, b, m, learning_rate, iterations):\n",
    "    b = b\n",
    "    m = m\n",
    "    for i in range(iterations):\n",
    "        [b, m, ylist, xlist] = step_gradient(b, m, array(points), learning_rate)\n",
    "    return [b, m, ylist, xlist]"
   ]
  },
  {
   "cell_type": "markdown",
   "metadata": {},
   "source": [
    "The run method is the main method here where we are doing a lot of things\n",
    "1. '%matplotlib inline' this line of code helps us plot our graph in line with the running code (especially while using Jupyter notebook). it is not necessary when you are running this code in command prompt\n",
    "2. the second line is where we read the data from our csv(comma seperated value) file using the above described class called 'genfromtxt'\n",
    "3. The Hyper parameters are the tuners for reaching our desired goal. Our hyper parameters here are,\n",
    "1. 'learning_rate':- The rate at which our model should converge to optimal solution.\n",
    "2. The initial slope and constant values for a straight line 'initial_m' and 'initial_b' are set to be 0\n",
    "3. the number of iterations will tell us how many times we think our model should run before it reaches local minimum using gradient descent\n",
    "4. we are displaying the error rate and intial slope and constant(b and m values)\n",
    "5. A method call is made to gradient_descent_runner method for running the gradient descent\n",
    "6. the final values of slope(m), constant(b) and error are calculated using compute_error method\n",
    "7. Now comes the Graph plotting\n",
    "8. The List of input points from data.csv are plotted on the graph and our Optimal solution, the line of best fit, is plotted along with it for comparision\n",
    "9. we are displaying the graph using show method\n"
   ]
  },
  {
   "cell_type": "code",
   "execution_count": 63,
   "metadata": {
    "collapsed": true,
    "deletable": true,
    "editable": true
   },
   "outputs": [],
   "source": [
    "def run():\n",
    "    %matplotlib inline\n",
    "    points = genfromtxt('./data.csv', delimiter=',')\n",
    "    # Hyper parameters\n",
    "    learning_rate=0.0001\n",
    "    # y=mx+b\n",
    "    initial_m=0\n",
    "    initial_b=0\n",
    "    num_iterations=1000\n",
    "    print \"Starting gradient descent at b = {0}, m = {1}, error = {2}\".format(initial_b, initial_m, compute_error(initial_b, initial_m, points))\n",
    "    print \"Running....\"\n",
    "    [b,m,ylist,xlist] = gradient_descent_runner(points, initial_b, initial_m, learning_rate, num_iterations)\n",
    "    print \"After {0} iterations, b = {1}, m = {2}, error = {3}\".format(num_iterations, b, m, compute_error(b, m, points))\n",
    "    plt.scatter(xlist,ylist)\n",
    "    plt.plot(xlist,compute_y(b,m,xlist))\n",
    "    plt.show()"
   ]
  },
  {
   "cell_type": "markdown",
   "metadata": {},
   "source": [
    "Running our Model to calculate the line of best fit while minimising errors using an optimization method called Gradient Descent"
   ]
  },
  {
   "cell_type": "code",
   "execution_count": 64,
   "metadata": {
    "collapsed": false
   },
   "outputs": [
    {
     "name": "stdout",
     "output_type": "stream",
     "text": [
      "Starting gradient descent at b = 0, m = 0, error = 5565.10783448\n",
      "Running....\n",
      "After 1000 iterations, b = 0.0889365199374, m = 1.47774408519, error = 112.614810116\n"
     ]
    },
    {
     "data": {
      "image/png": "[encoded data removed]",
      "text/plain": [
       "<matplotlib.figure.Figure at 0x1059fbe50>"
      ]
     },
     "metadata": {},
     "output_type": "display_data"
    }
   ],
   "source": [
    "if __name__ == '__main__':\n",
    "\trun()"
   ]
  }
 ],
 "metadata": {
  "kernelspec": {
   "display_name": "Python 2",
   "language": "python",
   "name": "python2"
  },
  "language_info": {
   "codemirror_mode": {
    "name": "ipython",
    "version": 2
   },
   "file_extension": ".py",
   "mimetype": "text/x-python",
   "name": "python",
   "nbconvert_exporter": "python",
   "pygments_lexer": "ipython2",
   "version": "2.7.10"
  }
 },
 "nbformat": 4,
 "nbformat_minor": 2
}
